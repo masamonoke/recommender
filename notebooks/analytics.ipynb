{
 "cells": [
  {
   "cell_type": "code",
   "execution_count": 1,
   "metadata": {
    "collapsed": true,
    "ExecuteTime": {
     "start_time": "2023-07-09T20:06:46.432149Z",
     "end_time": "2023-07-09T20:06:46.502966Z"
    }
   },
   "outputs": [],
   "source": [
    "import sys\n",
    "sys.path.insert(0, \"../fill_scripts\")\n",
    "from utils import get_connection\n",
    "from dotenv import load_dotenv\n",
    "load_dotenv()\n",
    "conn = get_connection()\n",
    "cursor = conn.cursor()"
   ]
  },
  {
   "cell_type": "code",
   "execution_count": 2,
   "outputs": [],
   "source": [
    "import pandas as pd\n",
    "import matplotlib.pyplot as plt\n",
    "import numpy as np"
   ],
   "metadata": {
    "collapsed": false,
    "ExecuteTime": {
     "start_time": "2023-07-09T20:06:46.504027Z",
     "end_time": "2023-07-09T20:06:47.083228Z"
    }
   }
  },
  {
   "cell_type": "code",
   "execution_count": 3,
   "outputs": [],
   "source": [
    "def execute_query(query, params=()):\n",
    "    cursor.execute(query, params)\n",
    "    return cursor.fetchall()"
   ],
   "metadata": {
    "collapsed": false,
    "ExecuteTime": {
     "start_time": "2023-07-09T20:06:47.083608Z",
     "end_time": "2023-07-09T20:06:47.085294Z"
    }
   }
  },
  {
   "cell_type": "code",
   "execution_count": 4,
   "outputs": [
    {
     "name": "stdout",
     "output_type": "stream",
     "text": [
      "Visitors this month\n"
     ]
    },
    {
     "data": {
      "text/plain": "6"
     },
     "execution_count": 4,
     "metadata": {},
     "output_type": "execute_result"
    }
   ],
   "source": [
    "print(\"Visitors this month\")\n",
    "query = '''\n",
    "    SELECT count(*)\n",
    "    FROM\n",
    "        (\n",
    "            SELECT DISTINCT user_id\n",
    "            FROM evidence_log\n",
    "        ) as lsi;\n",
    "'''\n",
    "execute_query(query)[0][0]"
   ],
   "metadata": {
    "collapsed": false,
    "ExecuteTime": {
     "start_time": "2023-07-09T20:06:47.086322Z",
     "end_time": "2023-07-09T20:06:47.120096Z"
    }
   }
  },
  {
   "cell_type": "code",
   "execution_count": 5,
   "outputs": [
    {
     "name": "stdout",
     "output_type": "stream",
     "text": [
      "Conversion percentage\n"
     ]
    },
    {
     "data": {
      "text/plain": "7.31244064577398"
     },
     "execution_count": 5,
     "metadata": {},
     "output_type": "execute_result"
    }
   ],
   "source": [
    "print(\"Conversion percentage\")\n",
    "query = '''\n",
    "    SELECT count(*)\n",
    "    FROM\n",
    "        (\n",
    "            SELECT DISTINCT session_id\n",
    "            FROM evidence_log log\n",
    "            WHERE DATE_TRUNC('month', created) = DATE_TRUNC('month', CURRENT_DATE)\n",
    "            GROUP BY session_id\n",
    "         ) AS lsi;\n",
    "'''\n",
    "all_sessions_count = execute_query(query)[0][0]\n",
    "\n",
    "query = '''\n",
    "    SELECT count(*)\n",
    "    FROM\n",
    "    (\n",
    "        SELECT DISTINCT session_id FROM evidence_log\n",
    "        WHERE DATE_TRUNC('month', created) = DATE_TRUNC('month', CURRENT_DATE) and\n",
    "           event = 'buy'\n",
    "        GROUP BY session_id\n",
    "     ) AS lsi;\n",
    "'''\n",
    "sessions_with_buy = execute_query(query)[0][0]\n",
    "\n",
    "sessions_with_buy / all_sessions_count * 100"
   ],
   "metadata": {
    "collapsed": false,
    "ExecuteTime": {
     "start_time": "2023-07-09T20:06:47.119112Z",
     "end_time": "2023-07-09T20:06:47.171835Z"
    }
   }
  },
  {
   "cell_type": "code",
   "execution_count": 6,
   "outputs": [
    {
     "name": "stdout",
     "output_type": "stream",
     "text": [
      "Items sold this month\n"
     ]
    },
    {
     "data": {
      "text/plain": "97"
     },
     "execution_count": 6,
     "metadata": {},
     "output_type": "execute_result"
    }
   ],
   "source": [
    "print(\"Items sold this month\")\n",
    "query = '''\n",
    "    SELECT count(*)\n",
    "    FROM\n",
    "        (\n",
    "            SELECT DISTINCT content_id\n",
    "            FROM evidence_log\n",
    "        ) AS lsi;\n",
    "'''\n",
    "execute_query(query)[0][0]"
   ],
   "metadata": {
    "collapsed": false,
    "ExecuteTime": {
     "start_time": "2023-07-09T20:06:47.137976Z",
     "end_time": "2023-07-09T20:06:47.172320Z"
    }
   }
  },
  {
   "cell_type": "code",
   "execution_count": 7,
   "outputs": [
    {
     "name": "stdout",
     "output_type": "stream",
     "text": [
      "Sessions this month\n"
     ]
    },
    {
     "data": {
      "text/plain": "1053"
     },
     "execution_count": 7,
     "metadata": {},
     "output_type": "execute_result"
    }
   ],
   "source": [
    "print(\"Sessions this month\")\n",
    "query = '''\n",
    "    SELECT count(*)\n",
    "    FROM\n",
    "        (\n",
    "            SELECT DISTINCT session_id\n",
    "            FROM evidence_log log\n",
    "            WHERE DATE_TRUNC('month', created) = DATE_TRUNC('month', CURRENT_DATE)\n",
    "            GROUP BY session_id\n",
    "         ) AS lsi;\n",
    "'''\n",
    "execute_query(query)[0][0]"
   ],
   "metadata": {
    "collapsed": false,
    "ExecuteTime": {
     "start_time": "2023-07-09T20:06:47.143198Z",
     "end_time": "2023-07-09T20:06:47.172885Z"
    }
   }
  },
  {
   "cell_type": "code",
   "execution_count": 14,
   "outputs": [
    {
     "data": {
      "text/plain": "<Figure size 640x480 with 1 Axes>",
      "image/png": "[encoded data removed]"
     },
     "metadata": {},
     "output_type": "display_data"
    }
   ],
   "source": [
    "query_with_buy = '''\n",
    "    SELECT count(*)\n",
    "    FROM\n",
    "    (\n",
    "        SELECT DISTINCT session_id\n",
    "        FROM evidence_log\n",
    "        WHERE session_id IN (SELECT session_id FROM evidence_log WHERE event = 'buy') AND event = %s\n",
    "    ) AS q;\n",
    "'''\n",
    "\n",
    "query_without_buy = '''\n",
    "    SELECT count(*)\n",
    "    FROM\n",
    "    (\n",
    "        SELECT DISTINCT session_id\n",
    "        FROM evidence_log\n",
    "        WHERE session_id in (SELECT session_id FROM evidence_log WHERE event != 'buy') AND event = %s\n",
    "    ) AS q;\n",
    "'''\n",
    "\n",
    "events = [\"details\", \"moreDetails\", \"genreView\", \"addToList\"]\n",
    "sessions_with_buy = list()\n",
    "sessions_without_buy = list()\n",
    "for event in events:\n",
    "    sessions_with_buy.append(execute_query(query_with_buy, (event,))[0][0])\n",
    "    sessions_without_buy.append(execute_query(query_without_buy, (event,))[0][0])\n",
    "\n",
    "n = len(sessions_with_buy)\n",
    "r = np.arange(n)\n",
    "width = 0.2\n",
    "plt.bar(r, sessions_with_buy, color=\"crimson\", width=width, label=\"buy\")\n",
    "plt.bar(r + width, sessions_without_buy, color=\"g\", width=width, label=\"no buy\")\n",
    "plt.xticks(r + width / 2, events)\n",
    "plt.title(\"Sessions with a buy and without\")\n",
    "plt.ylabel(\"Unique sessions count\")\n",
    "plt.legend()\n",
    "plt.show()\n"
   ],
   "metadata": {
    "collapsed": false,
    "ExecuteTime": {
     "start_time": "2023-07-09T20:07:11.990753Z",
     "end_time": "2023-07-09T20:07:12.091491Z"
    }
   }
  },
  {
   "cell_type": "code",
   "execution_count": 9,
   "outputs": [
    {
     "name": "stdout",
     "output_type": "stream",
     "text": [
      "Top 10 content\n"
     ]
    },
    {
     "data": {
      "text/plain": "                                 0  1\n0                The Finest Hours   4\n1     Jack Reacher: Never Go Back   4\n2    Independence Day: Resurgence   3\n3                      Busanhaeng   3\n4                     Angry Birds   3\n5                Assassin's Creed   2\n6  Guardians of the Galaxy Vol. 2   2\n7      The Huntsman: Winter's War   2\n8                           Logan   2\n9                   Money Monster   2",
      "text/html": "<div>\n<style scoped>\n    .dataframe tbody tr th:only-of-type {\n        vertical-align: middle;\n    }\n\n    .dataframe tbody tr th {\n        vertical-align: top;\n    }\n\n    .dataframe thead th {\n        text-align: right;\n    }\n</style>\n<table border=\"1\" class=\"dataframe\">\n  <thead>\n    <tr style=\"text-align: right;\">\n      <th></th>\n      <th>0</th>\n      <th>1</th>\n    </tr>\n  </thead>\n  <tbody>\n    <tr>\n      <th>0</th>\n      <td>The Finest Hours</td>\n      <td>4</td>\n    </tr>\n    <tr>\n      <th>1</th>\n      <td>Jack Reacher: Never Go Back</td>\n      <td>4</td>\n    </tr>\n    <tr>\n      <th>2</th>\n      <td>Independence Day: Resurgence</td>\n      <td>3</td>\n    </tr>\n    <tr>\n      <th>3</th>\n      <td>Busanhaeng</td>\n      <td>3</td>\n    </tr>\n    <tr>\n      <th>4</th>\n      <td>Angry Birds</td>\n      <td>3</td>\n    </tr>\n    <tr>\n      <th>5</th>\n      <td>Assassin's Creed</td>\n      <td>2</td>\n    </tr>\n    <tr>\n      <th>6</th>\n      <td>Guardians of the Galaxy Vol. 2</td>\n      <td>2</td>\n    </tr>\n    <tr>\n      <th>7</th>\n      <td>The Huntsman: Winter's War</td>\n      <td>2</td>\n    </tr>\n    <tr>\n      <th>8</th>\n      <td>Logan</td>\n      <td>2</td>\n    </tr>\n    <tr>\n      <th>9</th>\n      <td>Money Monster</td>\n      <td>2</td>\n    </tr>\n  </tbody>\n</table>\n</div>"
     },
     "execution_count": 9,
     "metadata": {},
     "output_type": "execute_result"
    }
   ],
   "source": [
    "print(\"Top 10 content\")\n",
    "query = '''\n",
    "    SELECT movies.title, count(*) as sold\n",
    "    FROM evidence_log log\n",
    "    JOIN movies ON CAST(log.content_id AS INTEGER) = CAST(movies.movie_id AS INTEGER)\n",
    "    WHERE event LIKE 'buy'\n",
    "    GROUP BY content_id, movies.title\n",
    "    ORDER BY sold DESC\n",
    "    LIMIT 10\n",
    "'''\n",
    "films = execute_query(query)\n",
    "df = pd.DataFrame(films)\n",
    "df"
   ],
   "metadata": {
    "collapsed": false,
    "ExecuteTime": {
     "start_time": "2023-07-09T20:06:47.276037Z",
     "end_time": "2023-07-09T20:06:47.315277Z"
    }
   }
  },
  {
   "cell_type": "code",
   "execution_count": 15,
   "outputs": [
    {
     "data": {
      "text/plain": "<Figure size 640x480 with 1 Axes>",
      "image/png": "[encoded data removed]"
     },
     "metadata": {},
     "output_type": "display_data"
    }
   ],
   "source": [
    "query = '''\n",
    "    select count(*)\n",
    "    from\n",
    "        (\n",
    "            select rating\n",
    "            from ratings\n",
    "            where rating = %s\n",
    "        ) as q;\n",
    "'''\n",
    "\n",
    "distr = list()\n",
    "for i in range(0, 11):\n",
    "    distr.append(execute_query(query, (i,))[0][0])\n",
    "\n",
    "r = np.arange(len(distr))\n",
    "plt.bar(r, distr)\n",
    "plt.xticks(r + width / 2, r)\n",
    "plt.title(\"Users rating distribution\")\n",
    "plt.show()"
   ],
   "metadata": {
    "collapsed": false,
    "ExecuteTime": {
     "start_time": "2023-07-09T20:10:52.066911Z",
     "end_time": "2023-07-09T20:10:52.504722Z"
    }
   }
  }
 ],
 "metadata": {
  "kernelspec": {
   "display_name": "Python 3",
   "language": "python",
   "name": "python3"
  },
  "language_info": {
   "codemirror_mode": {
    "name": "ipython",
    "version": 2
   },
   "file_extension": ".py",
   "mimetype": "text/x-python",
   "name": "python",
   "nbconvert_exporter": "python",
   "pygments_lexer": "ipython2",
   "version": "2.7.6"
  }
 },
 "nbformat": 4,
 "nbformat_minor": 0
}
